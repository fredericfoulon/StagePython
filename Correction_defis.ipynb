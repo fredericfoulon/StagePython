{
 "cells": [
  {
   "cell_type": "markdown",
   "metadata": {},
   "source": [
    "# Des solutions pour les défis de programmation en Python 3 "
   ]
  },
  {
   "cell_type": "markdown",
   "metadata": {},
   "source": [
    "Les défis guident  \n",
    "Il est parfois possible de faire autrement, c'est pourquoi plusiseurs solutions sont proposées. "
   ]
  },
  {
   "cell_type": "markdown",
   "metadata": {},
   "source": [
    "## Défi 1 : Conversion Degré-radians  "
   ]
  },
  {
   "cell_type": "markdown",
   "metadata": {},
   "source": [
    "Ecrire un script Python qui permet de saisir les valeurs degrés, minutes et secondes de la mesure \n",
    "d'un angle, puis de convertir en radians. \n",
    "Faire également la conversion inverse depuis une saisie en radians."
   ]
  },
  {
   "cell_type": "markdown",
   "metadata": {},
   "source": [
    "**Indications**\n",
    "\n",
    "+ n'oubliez pas le transtypage car une saisie \"input\" a comme \"type\" : une chaîne de caractère\n",
    "+ pour la conversion inverse , il est possible d'utiliser la fonction degrees du module math\n"
   ]
  },
  {
   "cell_type": "code",
   "execution_count": null,
   "metadata": {
    "collapsed": true
   },
   "outputs": [],
   "source": [
    "# Python 3.4.5\n",
    "# Solution proposée par Frédéric FOULON\n",
    "# Défi 1  Conversion Degré vers radian\n",
    "import math\n",
    "\n",
    "print(\"Entrez un angle en degres, minutes, secondes\")\n",
    "d = float(input(\"\\tdegres : \"))    # ne pas oublier de transtyper\n",
    "m = float(input(\"\\tminutes : \"))   # les saisies str -> float\n",
    "s = float(input(\"\\tsecondes : \"))\n",
    "total_degres = d + m / 60 + s / 3600\n",
    "rad = total_degres * (math.pi / 180)\n",
    "print(\"En radians :\", rad)"
   ]
  },
  {
   "cell_type": "code",
   "execution_count": null,
   "metadata": {
    "collapsed": true
   },
   "outputs": [],
   "source": [
    "#!/usr/bin/python3\n",
    "# crée par frederic foulon\n",
    "# Défi 1 bis Conversion radian_degré\n",
    "\n",
    "from math import degrees\n",
    "radian = float(input(\"entrer les radians\")) # ne pas oublier le transtypage\n",
    "degre=degrees(radian)\n",
    "dd=int(degre)\n",
    "mn=int(60*(degre-dd))\n",
    "sec=60*(60*(degre-dd)-mn)\n",
    "print(\"la valeur en degre de\",radian,\"rad\",\"est\",degre,\"°\",mn,\"min\",sec,\"\\\"\")"
   ]
  },
  {
   "cell_type": "markdown",
   "metadata": {},
   "source": [
    "## Défi 2 : Equations du second degré dans $\\mathbb{R}$"
   ]
  },
  {
   "cell_type": "markdown",
   "metadata": {},
   "source": [
    "Ecrire un script Python qui permet de déterminer les solutions de l'équation: $ax^2+bx+c=0$"
   ]
  },
  {
   "cell_type": "markdown",
   "metadata": {},
   "source": [
    "** Indications et prolongement possible**\n",
    "+ il est possible de filtrer la valeur de a en utilisant un \" while \" \n",
    "+ prolongement possible dans $\\mathbb{C}$\n",
    "+ vous pouvez utiliser le elif qui permet une syntaxe plus \"compacte\""
   ]
  },
  {
   "cell_type": "code",
   "execution_count": null,
   "metadata": {
    "collapsed": true
   },
   "outputs": [],
   "source": [
    "# Python 3.4.5\n",
    "# Solution proposée par Frédéric FOULON\n",
    "# Défi 2 : Equation du second degré (sans elif)\n",
    "from math import sqrt\n",
    "\n",
    "a = float(input(\"entre un nombre a\"))\n",
    "b = float(input(\"entre un nombre b\"))\n",
    "c = float(input(\"entre un nombre c\"))\n",
    "d = b*b-4*a*c\n",
    "if a==0:\n",
    "    print(\"l'équation est du premier degré\")\n",
    "else :\n",
    "    d = b*b-4*a*c\n",
    "    if d>0:\n",
    "        x1=(-b-sqrt(d))/(2*a)\n",
    "        x2=(-b+sqrt(d))/(2*a)\n",
    "        print(\"l'équation a deux solutions réelles \",x1, \"et\", x2)\n",
    "    else :\n",
    "        if d==0:\n",
    "            x=-b/(2*a)\n",
    "            print(\"l'équation a une solution rélle\",x)\n",
    "        else :\n",
    "            if d<0:\n",
    "                print(\"l'équation n'a pas de solution rélle\")"
   ]
  },
  {
   "cell_type": "code",
   "execution_count": null,
   "metadata": {
    "collapsed": true
   },
   "outputs": [],
   "source": [
    "# Python 3.4.5\n",
    "# Solution proposée par Frédéric FOULON\n",
    "# defi2 : equation second degré\n",
    "from math import sqrt\n",
    "a = float(input(\"entre un nombre a\"))\n",
    "while a==0:\n",
    "    print(\"entrer un nombre a non nul \")\n",
    "    a = float(input(\"entrer un nombre a non nul \"))\n",
    "\n",
    "b = float(input(\"entre un nombre b\"))\n",
    "c = float(input(\"entre un nombre c\"))\n",
    "\n",
    "d = b*b-4*a*c\n",
    "if d<0:\n",
    "    print(\"l'équation n'a pas de solution rélle\")\n",
    "elif d==0:\n",
    "    x=-b/(2*a)\n",
    "    print(\"l'équation a une solution rélle\",x)\n",
    "elif d>0:\n",
    "    x1=(-b-sqrt(d))/(2*a)\n",
    "    x2=(-b+sqrt(d))/(2*a)\n",
    "    print(\"l'équation a deux solutions réelles \",x1, \"et\", x2)\n"
   ]
  },
  {
   "cell_type": "markdown",
   "metadata": {},
   "source": [
    "## Défi 3 : Périmètre et Aire "
   ]
  },
  {
   "cell_type": "code",
   "execution_count": null,
   "metadata": {
    "collapsed": true
   },
   "outputs": [],
   "source": [
    "# Python 3.4.5\n",
    "# Solution proposée par Frédéric FOULON\n",
    "# Defi 3 : Aire et périmètre\n",
    "\n",
    "from math import sqrt\n",
    "\n",
    "print(\"Entrez les longueurs des trois côtés\")\n",
    "a = float(input(\"a : \"))\n",
    "b = float(input(\"b : \"))\n",
    "c = float(input(\"c : \"))\n",
    "# le problème n'est possible que si la longueur de chaque côté est\n",
    "# inférieure à la somme des deux autres - sinon ce n'est pas un\n",
    "# triangle :\n",
    "if (a < b+c) and (b < a+c) and (c < a+b):\n",
    "    d = (a+b+c)/2                  # demi-périmètre\n",
    "    s = sqrt(d*(d-a)*(d-b)*(d-c))  # aire\n",
    "    print(\"Périmètre = %.2f \\t Aire = %.2f\" % (2*d, s))\n",
    "else:\n",
    "    print(\"Les longueurs saisies ne forment pas un triangle !\")"
   ]
  },
  {
   "cell_type": "markdown",
   "metadata": {},
   "source": [
    "Écrire un script qui calcule le périmètre et l'aire d'un triangle quelconque dont on saisira les trois côtés par la commande `input()`.\n",
    "\n",
    "*Rappels :*\n",
    "\n",
    "- L'aire vaut : $A = \\sqrt{p(p-a)(p-b)(p-c)}$ où $p$ est le demi-périmètre ($\\dfrac{a+b+c}{2}$), $a$, $b$ et $c$ les longueurs des trois côtés.\n",
    "- Pour que trois côtés forment un triangle, il faut que la longueur de chacun soit inférieure à la somme des deux autres. \n",
    "\n",
    "Si les longueurs des côtés saisies ne forment pas un triangle, afficher un message d'erreur et ne pas faire les calculs.\n",
    "Rappels :\n"
   ]
  },
  {
   "cell_type": "markdown",
   "metadata": {},
   "source": [
    "**Prolongement possible **: \n",
    "\n",
    "Saisir trois longueurs `a`, `b` et `c`. Déterminer si elles permettent de construire un triangle pour les contraintes de construction d'un triangle à partir de trois longueurs).\n",
    "\n",
    "Dans l'affirmative, préciser si le triangle est [rectangle](https://fr.wikipedia.org/wiki/Triangle_rectangle), isocèle (deux côtés égaux), [équilatéral](https://fr.wikipedia.org/wiki/Triangle_%C3%A9quilat%C3%A9ral) ou quelconque.\n",
    "\n",
    "Sinon, afficher : `\"Les longueurs saisies ne forment pas un triangle !\"`"
   ]
  },
  {
   "cell_type": "code",
   "execution_count": null,
   "metadata": {
    "collapsed": true
   },
   "outputs": [],
   "source": [
    "# Python 3.4.5\n",
    "# Solution proposée par Frédéric FOULON\n",
    "# Prolongement défi 3\n",
    "\n",
    "print(\"Entrez les longueurs des trois côtes\")\n",
    "a = float(input(\"a : \"))\n",
    "b = float(input(\"b : \"))\n",
    "c = float(input(\"c : \"))\n",
    "\n",
    "# le problème n'est possible que si la longueur de chaque côté\n",
    "# est inférieure à la somme des deux autres :\n",
    "if (a < b+c) and (b < a+c) and (c < a+b):\n",
    "    print(\"Ces trois côtés déterminent bien un triangle\")\n",
    "    # pour afficher \"triange quelconque\" en l'abscence des autres cas,\n",
    "    # on utilise une variable booléenne (drapeau)\n",
    "    forme = True\n",
    "\n",
    "    if (a == b == c):  # trois côtés égaux\n",
    "        print(\"Ce triangle est équilatéral.\")\n",
    "        forme = False\n",
    "    elif (a == b) or (b == c) or (c == a):  # deux côtés égaux\n",
    "        print(\"Ce triangle est isocèle.\")\n",
    "        forme = False\n",
    "    if (a*a + b*b == c*c)  or  (b*b + c*c == a*a)  or  (c*c + a*a == b*b):\n",
    "        print(\"Ce triangle est rectangle.\")\n",
    "        forme = False\n",
    "    if forme:\n",
    "        print(\"Ce triangle est quelconque.\")\n",
    "else:\n",
    "    print(\"Ces trois côtés ne forment pas un triangle !\")"
   ]
  },
  {
   "cell_type": "markdown",
   "metadata": {},
   "source": [
    "## Défi 4 :  Produit Scalaire "
   ]
  },
  {
   "cell_type": "markdown",
   "metadata": {},
   "source": [
    "Dans l'espace muni d'un repère orthonormé : \n",
    "\n",
    "On représente des vecteurs par des listes de 3 éléments.\n",
    "\n",
    "Saisir deux listes de trois flottants. Par exemple :\n",
    "\n",
    "+ u = [1.0, 2.0, 3.0]\n",
    "+ v = [4.0, 5.0, 6.0]\n",
    "\n",
    "Écrire un script qui calcule et affiche le produit scalaire de ces deux vecteurs et le cosinus de l'angle entre ces deux vecteurs.\n",
    "\n",
    "Quel est le cosinus de l'angle entre les vecteurs u et v ?"
   ]
  },
  {
   "cell_type": "markdown",
   "metadata": {},
   "source": [
    "**Rappels :** \n",
    "\n",
    "- Le produit scalaire de deux vecteurs $u(u_x, u_y, u_z)$ et $v(v_x, v_y, v_z)$ est $ps = (u_x . v_x + u_y . v_y + u_z . v_z)$.\n",
    "- La norme d'un vecteur  $v(x, y, z)$ est $||v|| = \\sqrt{x^2 + y^2 + z^2}$.\n",
    "- Le cosinus entre les vecteurs v et w est $\\dfrac{ps}{||v|| . ||v||}$."
   ]
  },
  {
   "cell_type": "code",
   "execution_count": null,
   "metadata": {
    "collapsed": true
   },
   "outputs": [],
   "source": [
    "# Python 3.4.5\n",
    "# Solution proposée par Frédéric FOULON\n",
    "# Defi 4 : Produit scalaire\n",
    "\n",
    "# u et v\n",
    "u, v = [0.0]*3, [0.0]*3\n",
    "print(type(u))\n",
    "print(\"Saisie de v\")\n",
    "u[0] = float(input(\"abscisse de u : \"))\n",
    "u[1] = float(input(\"ordonnée de u: \"))\n",
    "u[2] = float(input(\"côte de u: \"))\n",
    "\n",
    "print(\"Saisie de v\")\n",
    "v[0] = float(input(\"abscisse de v: \"))\n",
    "v[1] = float(input(\"ordonnée de v: \"))\n",
    "v[2] = float(input(\"côte de v: \"))\n",
    "\n",
    "# produit scalaire\n",
    "ps = u[0]*v[0] + u[1]*v[1] + u[2]*v[2]\n",
    "\n",
    "# normes\n",
    "nu = u[0]**2 + u[1]**2 + u[2]**2\n",
    "nv = v[0]**2 + v[1]**2 + v[2]**2\n",
    "\n",
    "# affichage\n",
    "print(\"\\nProduit scalaire : %g \\n cosinus : %g\" % (ps, ps/(nu*nv)))"
   ]
  },
  {
   "cell_type": "markdown",
   "metadata": {},
   "source": [
    "## Défi 5 : Remplacement dans une chaîne de caractères ADN (Algorithmes et génomes) "
   ]
  },
  {
   "cell_type": "markdown",
   "metadata": {},
   "source": [
    "Soit la chaîne de caractères suivante :\n",
    "\n",
    "`dna = \"tgaattctatgaatggactgtcccaaagaagtagggacccac\"`\n",
    "\n",
    "Écrire un script qui affiche la chaîne `dna` après avoir remplacé la lettre `\"a\"` par `\"t\"` **et** la lettre  `\"t\"` par `\"g\"`."
   ]
  },
  {
   "cell_type": "code",
   "execution_count": null,
   "metadata": {
    "collapsed": true
   },
   "outputs": [],
   "source": [
    "# Python 3.4.5\n",
    "# Solution proposée par Frédéric FOULON\n",
    "# Défi 5 : version sans replace ou presque ;-)\n",
    "\"\"\"\n",
    "Remplacer lettre \"a\" par \"t\" et la lettre \"t\" par \"g\"\n",
    "\"\"\"\n",
    "dna=\"tgaattctatgaatggactgtcccaaagaagtagggacccac\"\n",
    "print(dna)\n",
    "def remplacement(C,a,b):\n",
    "    result = ''\n",
    "    for i in C:\n",
    "        if i == a:\n",
    "                i = b\n",
    "        result += i\n",
    "    return result\n",
    "dna=remplacement(dna,'t','*')\n",
    "#print(dna)\n",
    "dna=remplacement(dna,'a','t')\n",
    "#print(dna)\n",
    "dna=remplacement(dna,'*','g')\n",
    "print(dna)"
   ]
  },
  {
   "cell_type": "code",
   "execution_count": null,
   "metadata": {
    "collapsed": true
   },
   "outputs": [],
   "source": [
    "# Python 3.4.5\n",
    "# Solution proposée par Frédéric FOULON\n",
    "# Exercice 1.5\n",
    "\"\"\"\n",
    "Remplacer lettre \"a\" par \"t\" puis la lettre \"t\" par \"g\"\n",
    "\"\"\"\n",
    "dna=\"tgaattctatgaatggactgtcccaaagaagtagggacccac\"\n",
    "print(dna)\n",
    "dna = dna.replace('t','*')\n",
    "print(dna)\n",
    "dna = dna.replace('a','t')\n",
    "print(dna)\n",
    "dna = dna.replace('*','g')\n",
    "print(dna)"
   ]
  },
  {
   "cell_type": "markdown",
   "metadata": {},
   "source": [
    "## Défi 6 : Palindrome et ADN (Inspiré MOOC Algorithmes et génomes )\n"
   ]
  },
  {
   "cell_type": "markdown",
   "metadata": {},
   "source": [
    "Soit la chaîne de caractères suivante :\n",
    "\n",
    "\tadn = \"tgaattctatgaatggactgtcccaaagaagtagggacccac\"\n",
    "    \n",
    "Afficher la chaîne `dna`, [palindrome](https://fr.wikipedia.org/wiki/Palindrome) de la chaine `adn`.\n",
    "\n",
    "**Conseil :** N'utilisez que la gestion des indices de la chaîne `adn`."
   ]
  },
  {
   "cell_type": "code",
   "execution_count": null,
   "metadata": {
    "collapsed": true
   },
   "outputs": [],
   "source": [
    "# Python 3.4.5\n",
    "# Solution proposée par Frédéric FOULON\n",
    "# Defi 6 avec une liste que l'on construit ...\n",
    "\n",
    "dna = 'tgaattctatgaatggactgtcccaaagaagtagggacccac'\n",
    "\n",
    "def palindrome(C):\n",
    "    l=len(C)\n",
    "    L=''\n",
    "    for k in range (1,l+1):\n",
    "        L=L+C[l-k]\n",
    "    return C,L\n",
    "\n",
    "print(palindrome(dna))"
   ]
  },
  {
   "cell_type": "code",
   "execution_count": null,
   "metadata": {
    "collapsed": true
   },
   "outputs": [],
   "source": [
    "# Python 3.4.5\n",
    "# Solution proposée par Frédéric FOULON\n",
    "# Exercice ...\n",
    "dna = 'tgaattctatgaatggactgtcccaaagaagtagggacccac'\n",
    "dna= list(dna)\n",
    "\n",
    "def inverser(C):\n",
    "    l=len(C)\n",
    "    L=[]\n",
    "    for k in range (1,l+1):\n",
    "        L.append(C[l-k])\n",
    "        S=','.join(L)\n",
    "    return S\n",
    "\n",
    "print(inverser(dna))"
   ]
  },
  {
   "cell_type": "code",
   "execution_count": null,
   "metadata": {
    "collapsed": true
   },
   "outputs": [],
   "source": [
    "# Python 3.4.5\n",
    "# Solution proposée par Frédéric FOULON\n",
    "# Exercice ...\n",
    "# Une version un peu longue ... avec une boucle while mais rapide ?\n",
    "dna = 'tgaattctatgaatggactgtcccaaagaagtagggacccac'\n",
    "def inverser(C):\n",
    "    C=list(C)\n",
    "    d=0\n",
    "    f=len(C)-1\n",
    "    while (d<f):\n",
    "        temp1=C[d]\n",
    "        C[d]=C[f]\n",
    "        C[f]=temp1\n",
    "        d+=1\n",
    "        f-=1\n",
    "    return(C)\n",
    "chn = \",\".join(inverser(dna))\n",
    "print(chn)"
   ]
  },
  {
   "cell_type": "markdown",
   "metadata": {},
   "source": [
    "## Défi 7 : Générer des  couples de nombres réels "
   ]
  },
  {
   "cell_type": "markdown",
   "metadata": {},
   "source": [
    "Écrire un script qui fasse saisir deux entiers `p` et `q`, puis qui affiche tous les couples `(x, y)`, \n",
    "`x` étant un entier compris entre `1` et `p` et `y` un entier compris entre `1` et `q`. \n",
    "\n",
    "L’affichage doit se faire comme sur l’exemple suivant, qui correspond à `p = 3` et `q = 5` :\n",
    "\n",
    "```python\n",
    "(1, 1)  (1, 2)  (1, 3)  (1, 4)  (1, 5) \n",
    "(2, 1)  (2, 2)  (2, 3)  (2, 4)  (2, 5) \n",
    "(3, 1)  (3, 2)  (3, 3)  (3, 4)  (3, 5)\n",
    "```"
   ]
  },
  {
   "cell_type": "code",
   "execution_count": null,
   "metadata": {
    "collapsed": true
   },
   "outputs": [],
   "source": [
    "# Python 3.4.5\n",
    "# Solution proposée par Frédéric FOULON\n",
    "# Défi 7 : avec des boucles\n",
    "\n",
    "p = int(input(\"entrer p = \"))\n",
    "q = int(input(\"entrer q = \"))\n",
    "\n",
    "for x in range(1,p+1):\n",
    "    for y in range(1,q+1):\n",
    "        if x<=y :\n",
    "            print(\"(%d, %d)\" % (x,y),end='  ')\n"
   ]
  },
  {
   "cell_type": "code",
   "execution_count": null,
   "metadata": {
    "collapsed": true
   },
   "outputs": [],
   "source": [
    "# Python 3.4.5\n",
    "# Solution proposée par Frédéric FOULON\n",
    "# defi 7 avec les listes en comprehension\n",
    "\n",
    "p = int(input(\"entrer p = \"))\n",
    "q = int(input(\"entrer q = \"))\n",
    "L = [(x,y) for x in range (1,p+1) for y in range(1,q+1)]\n",
    "print(L)"
   ]
  },
  {
   "cell_type": "markdown",
   "metadata": {},
   "source": [
    "## Défi 8 : Une suite récurrente (inspiré par un sujet de bac S)"
   ]
  },
  {
   "cell_type": "markdown",
   "metadata": {},
   "source": [
    "On considère la suite définie par $\\left(u_{n}\\right)$ définie par son premier terme $u_{1}=\\dfrac{3}{2}$ et la relation  de récurrence : $u_{n+1} =\\dfrac{nu_{n}+1}{2(n + 1)}$"
   ]
  },
  {
   "cell_type": "markdown",
   "metadata": {},
   "source": [
    "+ Construite un script permettant de calculer et d'afficher une terme de rang $n$\n",
    "+En s'inspirant de du programme précédent, écrire un algorithme permettant de déterminer et d'afficher le plus petit entier $n$ tel que $u_n<k$ où $k$ est un réel donné. \n",
    "+ En s'inspirant de du programme précédent, écrire un algorithme permettant de déterminer et d'afficher le plus petit entier $n$ tel que $u_{n} < k$ où $k$ est un réel donné. \n"
   ]
  },
  {
   "cell_type": "code",
   "execution_count": null,
   "metadata": {
    "collapsed": true
   },
   "outputs": [],
   "source": [
    "# Python 3.4.5\n",
    "# Solution proposée par Frédéric FOULON\n",
    "# Défi 8 : suite bac\n",
    "\n",
    "def suite(n):\n",
    "    n = 1\n",
    "    u = 1.5\n",
    "    u=(n*u+1)/(2*(n+1))\n",
    "    n=n+1\n",
    "    return u\n",
    "print(suite(9))\n",
    "\n",
    "def seuil(k):\n",
    "    n = 1\n",
    "    u = 1.5\n",
    "    while u>k:\n",
    "        u=(n*u+1)/(2*(n+1))\n",
    "        n=n+1\n",
    "    return int(n)\n",
    "\n",
    "print(seuil(0.20))"
   ]
  },
  {
   "cell_type": "markdown",
   "metadata": {},
   "source": [
    "## Défi 9 : Constante de Champernowne (inspiré du MOOC calcul formel avec Sage )"
   ]
  },
  {
   "cell_type": "markdown",
   "metadata": {},
   "source": [
    "Le nombre de Champernowne est le nombre dont le développement décimal est constitué de la suite des entiers naturels juxtaposés dans l'ordre.\n",
    "C=0,123456789101112131415...\n",
    "Ce nombre possède de nombreuses propriétés. \n",
    "\n",
    "[*Constante de Champernowne*](https://fr.wikipedia.org/wiki/Constante_de_Champernowne)\n",
    "\n",
    "Ecrire un programme qui permet d'écrire cette constante après avoir saisi un entier $n$"
   ]
  },
  {
   "cell_type": "code",
   "execution_count": null,
   "metadata": {
    "collapsed": true
   },
   "outputs": [],
   "source": [
    "# Python 3.4.5\n",
    "# Solution proposée par Frédéric FOULON\n",
    "# Défi constante de Champernowne  source Mooc calcul formel avec Sage\n",
    "\n",
    "def champer(n):\n",
    "    \"\"\"\n",
    "    Donne la constante de Champernowne après avoir donné n entier\n",
    "    \"\"\"\n",
    "    C=''\n",
    "    debut='0.'\n",
    "    for k in range (1,n+1):\n",
    "        C=C+str(k)\n",
    "    return debut + C # attention le type est str\n",
    "    donc si on souhaite\n",
    "print(champer(125))"
   ]
  },
  {
   "cell_type": "markdown",
   "metadata": {},
   "source": [
    "## Défi 10 : Tabuler une fonction "
   ]
  },
  {
   "cell_type": "markdown",
   "metadata": {},
   "source": [
    "Écrire une fonction `f` qui retourne $f(x) = 2 x^3 + x − 5$.\n",
    "\n",
    "Écrire une procédure `tabuler` avec quatre paramètres : `fonction`, `borneInf`, `borneSup` et `nbPas` (où  `borneInf < borneSup` et `nbPas >= 2`). Cette procédure affiche les valeurs résultant de l'appel à `fonction`, avec un $x$ de `borneInf` à `borneSup`, tous les `nbPas`. \n",
    "\n",
    "Dans une seconde cellule, tester la fonction `tabuler` avec la fonction de calcul `f` après avoir saisi les deux bornes et le nombre de pas."
   ]
  },
  {
   "cell_type": "code",
   "execution_count": null,
   "metadata": {
    "collapsed": true
   },
   "outputs": [],
   "source": [
    "# Python 3.4.5\n",
    "# Solution proposée par Frédéric FOULON\n",
    "# Defi 10 : tabulation fonction sans notation lambda\n",
    "\n",
    "def maFonction(x):\n",
    "    return 2 * x ** 3 + x - 5\n",
    "\n",
    "def tabuler(fonction, borneInf, borneSup, nbPas):\n",
    "    \"\"\"\n",
    "    Affiche les valeurs de <fonction>.\n",
    "    On doit avoir donné borneInf ,borneSup et nbPas.\n",
    "    avec borneinf<bornesup et nbPas>0\n",
    "    \"\"\"\n",
    "    h = (borneSup - borneInf) / float(nbPas)\n",
    "    x = borneInf\n",
    "    while x <= borneSup:\n",
    "        y = fonction(x)\n",
    "        print(\"f({:.2f}) = {:.3f}\".format(x, y))\n",
    "        x += h\n",
    "tabuler (f,-5,4,100)"
   ]
  },
  {
   "cell_type": "code",
   "execution_count": null,
   "metadata": {
    "collapsed": true
   },
   "outputs": [],
   "source": [
    "# Python 3.4.5\n",
    "# Solution proposée par Frédéric FOULON\n",
    "# Defi 10 : tabulation fonction avec notation lambda\n",
    "\n",
    "f = lambda x: 2*x**2+x-5\n",
    "\n",
    "def tabuler(fonction, borneInf, borneSup, nbPas):\n",
    "    \"\"\"\n",
    "    Affiche les valeurs de <fonction>.\n",
    "    On doit avoir donné borneInf ,borneSup et nbPas.\n",
    "    avec borneinf<bornesup et nbPas>0\n",
    "    \"\"\"\n",
    "    h = (borneSup - borneInf) / float(nbPas)\n",
    "    x = borneInf\n",
    "    while x <= borneSup:\n",
    "        y = fonction(x)\n",
    "        print(\"f({:.2f}) = {:.3f}\".format(x, y))\n",
    "        x += h\n",
    "\n",
    "tabuler (f,-5,4,100)"
   ]
  },
  {
   "cell_type": "markdown",
   "metadata": {},
   "source": [
    "## Défi 11 : Nombre aléatoire "
   ]
  },
  {
   "cell_type": "markdown",
   "metadata": {},
   "source": [
    "La fonction `randrange(n)` du module `random` renvoie un entier aléatoire compris entre 0 et `n-1`.\n",
    "\n",
    "Écrire un module contenant une fonction sans argument qui tire un nombre aléatoire dans l'intervalle $[0, 100]$ \n",
    "puis demande à l'utilisateur d'entrer un nombre dans ce même intervalle (le vérifier). \n",
    "La fonction retourne ces deux nombres.\n",
    "\n",
    "Écrire un programme principal qui exploite cette fonction et informe l’utilisateur \n",
    "si sa saisie est inférieure, égale ou supérieure au tirage aléatoire.\n"
   ]
  },
  {
   "cell_type": "code",
   "execution_count": null,
   "metadata": {
    "collapsed": true
   },
   "outputs": [],
   "source": [
    "# Solution proposée par Frédéric FOULON\n",
    "# défi 11 : nombre aléatoire avec randint\n",
    "from random import *\n",
    "def deuxNombres():\n",
    "    \"\"\"Renvoie une saisie et un entier aleatoire.\"\"\"\n",
    "    n1 = randint(0,100)\n",
    "    n2 = int(input(\"Votre nombre [0 .. 100] : \"))\n",
    "    while not(0 < n2 < 100):\n",
    "        n2 = int(input(\"Votre nombre [0 .. 100], SVP : \"))\n",
    "    return (n1, n2)\n",
    "\n",
    "(a, b) = deuxNombres()\n",
    "print(\"Tirage au hasard :\", a)\n",
    "if b > a:\n",
    "    print(\"Votre nombre est le plus grand\")\n",
    "elif b < a:\n",
    "    print(\"Votre nombre est le plus petit\")\n",
    "else:\n",
    "    print(\"Les deux nombres sont egaux\")"
   ]
  },
  {
   "cell_type": "markdown",
   "metadata": {},
   "source": [
    "## Défi 12 : Factorielle d'un entier $n$ "
   ]
  },
  {
   "cell_type": "markdown",
   "metadata": {},
   "source": [
    "Ecrire une fonction pour calculer la factorielle d'un entier $n$"
   ]
  },
  {
   "cell_type": "markdown",
   "metadata": {},
   "source": [
    "** Prolongement ** \n",
    "\n",
    "+ proposer une version itérative\n",
    "+ et une version récursive ;-)"
   ]
  },
  {
   "cell_type": "code",
   "execution_count": null,
   "metadata": {
    "collapsed": true
   },
   "outputs": [],
   "source": [
    "# Python 3.4.5\n",
    "# Solution proposée par Frédéric FOULON\n",
    "# Défi 12\n",
    "\n",
    "def facti(n):\n",
    "    p= 1\n",
    "    for k in range(2,n+1):\n",
    "        p=p*k\n",
    "    return p\n",
    "print(factr(10))"
   ]
  },
  {
   "cell_type": "code",
   "execution_count": null,
   "metadata": {
    "collapsed": true
   },
   "outputs": [],
   "source": [
    "# Python 3.4.5\n",
    "# Solution proposée par Frédéric FOULON\n",
    "# Defi 13\n",
    "\n",
    "def factr(n):\n",
    "    if n==0:\n",
    "        return 1\n",
    "    else:\n",
    "        return n*factr(n-1)\n",
    "print(factr(10))\n",
    "\"\"\"\n",
    "Python limite le nombre d'appels récursifs à 1000\n",
    "pour augmenter la taille limite de la pile récursive\n",
    "import sys\n",
    "sys.setrecursionlimit(100000)\n",
    "\"\"\""
   ]
  },
  {
   "cell_type": "markdown",
   "metadata": {},
   "source": [
    "## Défi 13 : Nombres Parfaits \n"
   ]
  },
  {
   "cell_type": "markdown",
   "metadata": {},
   "source": [
    "Un nombre est *parfait* si il est égal à la somme de ses diviseurs propres.\n",
    "Un diviseur *propre* est un diviseur autre que le nombre lui même.\n",
    "\n",
    "6 est parfait car 6=3+2+1 \n",
    "\n",
    "+ Proposer une fonction qui teste si un entier est parfait.\n",
    "+ Ecrire uen fonction qui renvoie la liste des entiers parfait inférieur à n\n",
    "+ Ecrire une fonction somme(n) qui donne l'égalité nombre =somme des diviseurs 6=3+2+1 "
   ]
  },
  {
   "cell_type": "code",
   "execution_count": null,
   "metadata": {
    "collapsed": true
   },
   "outputs": [],
   "source": [
    "# Python 3.4.5\n",
    "# Solution proposée par Frédéric FOULON\n",
    "# Defi 13 : Nombres parfaits\n",
    "\n",
    "def somDiv(n):\n",
    "    somme = 1\n",
    "    for i in range(2, n//2+1):\n",
    "        if n % i == 0:\n",
    "            somme += i\n",
    "    return somme\n",
    "\n",
    "def estParfait(n):\n",
    "    return True if somDiv(n) == n else False\n",
    "\n",
    "def listeparfait(n):\n",
    "    L=[]\n",
    "    for k in range(1,n+1):\n",
    "        if estParfait(k)==True:\n",
    "            L.append(k)\n",
    "    return L\n",
    "print(listeparfait(1000))"
   ]
  },
  {
   "cell_type": "code",
   "execution_count": null,
   "metadata": {
    "collapsed": true
   },
   "outputs": [],
   "source": [
    "# Python 3.4.5\n",
    "# Solution proposée par Frédéric FOULON\n",
    "# Defi 13 : Nombres parfaits avec listes en comprehension\n",
    "\n",
    "def parfait(n):\n",
    "    return sum([d for d in range(1, n) if n % d == 0]) == n\n",
    "\n",
    "def liste_parfaits(n):\n",
    "    return [i for i in range(2, n) if parfait(i)]"
   ]
  },
  {
   "cell_type": "markdown",
   "metadata": {},
   "source": [
    "## Défi 14 : Triplets Pythagoricien "
   ]
  },
  {
   "cell_type": "markdown",
   "metadata": {},
   "source": [
    "Un triplet Pythagoricien est un triplet tel que $x^2+y^2=z^2$ où $\\left(x,y,z\\right)$ est un triplet d'entiers (x,y,z).\n",
    "\n",
    "+ Proposer un script qui prend un argument un nombre entier et qui renvoie la liste des triplets dont les composants sont inférieurs strictement à n\n",
    "+ combien y-a-t-il de triplets Pythagoricien inférieur à 100 ?\n",
    "\n",
    "[Triplets Pythagoricien](http://villemin.gerard.free.fr/Wwwgvmm/Addition/TripProp.htm)"
   ]
  },
  {
   "cell_type": "code",
   "execution_count": null,
   "metadata": {
    "collapsed": true
   },
   "outputs": [],
   "source": [
    "# Python 3.4.5\n",
    "# Solution proposée par Frédéric FOULON\n",
    "# défi 14 : Triplets Pythagoriciens \n",
    "\n",
    "def pythagoriciens(n):\n",
    "    L=[]\n",
    "    for x in range(1,n+1):\n",
    "        for y in range(x+1,n+1):\n",
    "            for z in range(y+1,n+1):\n",
    "                if x*x+y*y == z*z :\n",
    "                    L.append((x,y,z))\n",
    "    return L\n",
    "print(pythagoriciens(150))"
   ]
  },
  {
   "cell_type": "code",
   "execution_count": null,
   "metadata": {
    "collapsed": true
   },
   "outputs": [],
   "source": [
    "def pythagoriciens(n):\n",
    "\tfor x in range(1,n+1):\n",
    "\t\tfor y in range(x+1,n+1):\n",
    "\t\t\tfor z in range(y+1,n+1):\n",
    "\t\t\t\tif x*x+y*y == z*z : yield(x, y, z)\n",
    "print(tuple(pythagoriciens(150)))"
   ]
  },
  {
   "cell_type": "code",
   "execution_count": null,
   "metadata": {
    "collapsed": true
   },
   "outputs": [],
   "source": [
    "# Python 3.4.5\n",
    "# Solution proposée par Frédéric FOULON\n",
    "# Défi 14 : Triplet pythagoricien\n",
    "pythagoriciens = lambda n: tuple((x, y, z) for x in range(1, n+1) for y in range(x+1, n+1) for z in range(y+1, n+1) if x*x+y*y == z*z)\n",
    "print(pythagoriciens(150))"
   ]
  },
  {
   "cell_type": "markdown",
   "metadata": {},
   "source": [
    "## Défi 15 : Flocon de VON KOCH  \n",
    "\n"
   ]
  },
  {
   "cell_type": "markdown",
   "metadata": {},
   "source": [
    "[Courbe de VON KOCH](https://www.mathcurve.com/fractals/koch/koch.shtml)\n",
    "\n",
    "+ Utiliser le module turtle pour dessiner la courbe suivante : \n"
   ]
  },
  {
   "cell_type": "code",
   "execution_count": null,
   "metadata": {
    "collapsed": true
   },
   "outputs": [],
   "source": [
    "from IPython.display import IFrame, display\n",
    "IFrame('https://www.lespritsorcier.org/wp-content/uploads/2016/09/Koch_n4500.png', width='100%', height=250)"
   ]
  },
  {
   "cell_type": "code",
   "execution_count": null,
   "metadata": {},
   "outputs": [],
   "source": [
    "# Créé par frederic, le 16/02/2018 avec EduPython\n",
    "# le module turtle va ouvrir une fenetre ... \n",
    "import turtle as tortue\n",
    "tortue.up()\n",
    "tortue.goto(-300,0)\n",
    "tortue.down()\n",
    "tortue.shape(\"turtle\")\n",
    "\n",
    "def flocon(iterations):\n",
    "    if iterations == 0:\n",
    "        tortue.forward(5)\n",
    "    else:\n",
    "        flocon(iterations-1)\n",
    "        tortue.left(60)\n",
    "        flocon(iterations-1)\n",
    "        tortue.right(120)\n",
    "        flocon(iterations-1)\n",
    "        tortue.left(60)\n",
    "        flocon(iterations-1)\n",
    "\n",
    "flocon(4)\n",
    "tortue.exitonclick()\n"
   ]
  }
 ],
 "metadata": {
  "kernelspec": {
   "display_name": "Python 3",
   "language": "python",
   "name": "python3"
  },
  "language_info": {
   "codemirror_mode": {
    "name": "ipython",
    "version": 3
   },
   "file_extension": ".py",
   "mimetype": "text/x-python",
   "name": "python",
   "nbconvert_exporter": "python",
   "pygments_lexer": "ipython3",
   "version": "3.6.3"
  }
 },
 "nbformat": 4,
 "nbformat_minor": 2
}
