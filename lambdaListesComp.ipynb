{
 "cells": [
  {
   "cell_type": "markdown",
   "metadata": {},
   "source": [
    "# Pour aller un plus loin avec Python ... "
   ]
  },
  {
   "cell_type": "markdown",
   "metadata": {},
   "source": [
    "# Opérateur Lambda et Listes en Compréhension (ou intention)"
   ]
  },
  {
   "cell_type": "markdown",
   "metadata": {},
   "source": [
    "## La Notation lambda "
   ]
  },
  {
   "cell_type": "markdown",
   "metadata": {},
   "source": [
    "Si on souhaite définir une fonction $f$ définie par $f(x)=x^2+3x+5$, \n",
    "\n",
    "il est possible d'utiliser la notation lambda de Python \n",
    "qui est très proche de la notation mathématique  $$f : x \\longmapsto x^2+3x+5$$"
   ]
  },
  {
   "cell_type": "code",
   "execution_count": null,
   "metadata": {
    "collapsed": true
   },
   "outputs": [],
   "source": [
    "f = lambda x: x**2+3*x+5 \n",
    "f(5)"
   ]
  },
  {
   "cell_type": "markdown",
   "metadata": {},
   "source": [
    "Cette notation est plus \"rapide\" que :"
   ]
  },
  {
   "cell_type": "code",
   "execution_count": null,
   "metadata": {
    "collapsed": true
   },
   "outputs": [],
   "source": [
    "def f(x):\n",
    "    return x**2+3*x+5    "
   ]
  },
  {
   "cell_type": "markdown",
   "metadata": {},
   "source": [
    "Les *\"lambdas\"* sont volontairement bridées en Python:\n",
    "\n",
    "+ On ne peut les écrire que sur une ligne.\n",
    "+ On ne peut pas avoir plus d’une instruction dans la fonction."
   ]
  },
  {
   "cell_type": "markdown",
   "metadata": {},
   "source": [
    "## Il est possible d'inclure une condition if"
   ]
  },
  {
   "cell_type": "code",
   "execution_count": null,
   "metadata": {
    "collapsed": true
   },
   "outputs": [],
   "source": [
    "majorité = lambda x : print(\"mineur\") if x < 18 else print(\"majeur\")\n",
    "majorité(15)"
   ]
  },
  {
   "cell_type": "markdown",
   "metadata": {},
   "source": [
    "## D'inclure la récursivité : exemple suite de Fibonacci "
   ]
  },
  {
   "cell_type": "code",
   "execution_count": null,
   "metadata": {
    "collapsed": true
   },
   "outputs": [],
   "source": [
    "fib = lambda x : x if x < 2 else fib(x - 1) + fib(x - 2)\n",
    "fib(14)"
   ]
  },
  {
   "cell_type": "markdown",
   "metadata": {},
   "source": [
    "## Il est également possible d'inclure des fonctions Mathématiques "
   ]
  },
  {
   "cell_type": "code",
   "execution_count": null,
   "metadata": {
    "collapsed": true
   },
   "outputs": [],
   "source": [
    "from math import cos\n",
    "h = lambda x : cos (x)\n",
    "h(.5)"
   ]
  },
  {
   "cell_type": "markdown",
   "metadata": {},
   "source": [
    "## Les listes en compréhension ou intention"
   ]
  },
  {
   "cell_type": "markdown",
   "metadata": {},
   "source": [
    "En Mathématique, on note parfois un ensemble en compréhension :\n",
    "<IMG SRC=\"ensemble.png\">"
   ]
  },
  {
   "cell_type": "code",
   "execution_count": 3,
   "metadata": {},
   "outputs": [
    {
     "name": "stdout",
     "output_type": "stream",
     "text": [
      "[2, 5, 8, 11, 14, 17, 20, 23, 26, 29, 32, 35, 38, 41, 44, 47, 50, 53, 56, 59, 62, 65, 68, 71, 74, 77]\n"
     ]
    }
   ],
   "source": [
    "# la syntaxe python est simple mais attention aux pièges ....\n",
    "L = [3*k+2 for k in range(26)]\n",
    "print(L)"
   ]
  },
  {
   "cell_type": "markdown",
   "metadata": {},
   "source": [
    "Les possibilités sont nombreuses ... suites, échantillon, tableau de valeurs, ... "
   ]
  },
  {
   "cell_type": "code",
   "execution_count": 9,
   "metadata": {},
   "outputs": [
    {
     "name": "stdout",
     "output_type": "stream",
     "text": [
      "L1= [0, 3, 6, 9, 12, 13.5, 30]\n",
      "L2= [[0, 0], [1, 1], [2, 4], [3, 9], [4, 16], [4.5, 20.25], [10, 100]]\n",
      "L3= [48, 60.75, 300]\n",
      "L4= [0, 3, 6, 9, 12, 13.5]\n"
     ]
    }
   ],
   "source": [
    "liste = [0,1,2,3,4,4.5,10]\n",
    "\n",
    "L1 = [round(3*x,2) for x in liste]\n",
    "print(\"L1=\",L1)\n",
    "\n",
    "L2 = [[x, x**2] for x in liste]\n",
    "print(\"L2=\",L2)\n",
    "\n",
    "L3 = [3*x**2 for x in liste if x > 3]  # on filtre avec la condition x>2\n",
    "print(\"L3=\",L3)\n",
    "\n",
    "L4 = [3*x for x in liste if x**2 < 50] # idem\n",
    "print(\"L4=\",L4)\n"
   ]
  },
  {
   "cell_type": "code",
   "execution_count": 6,
   "metadata": {
    "collapsed": true
   },
   "outputs": [],
   "source": [
    "L5 = list(range(3))\n",
    "#print(\"L5=\",L5)"
   ]
  },
  {
   "cell_type": "code",
   "execution_count": 7,
   "metadata": {},
   "outputs": [
    {
     "name": "stdout",
     "output_type": "stream",
     "text": [
      "L6= [0.9950041652780258, 0.4535961214255773, -0.5048461045998576, -0.9991351502732795, -0.5748239465332692, 0.37797774271298024, 0.9832684384425845, 0.6845466664428066, -0.2435441537357911, -0.9477216021311119]\n",
      "[2, 5, 8, 11, 14, 17, 20, 23, 26, 29, 32, 35, 38, 41, 44, 47, 50, 53, 56, 59, 62, 65, 68, 71, 74, 77]\n",
      "[0, 2, 4, 6, 8, 10, 12, 14, 16, 18, 20, 22, 24, 26, 28, 30, 32, 34, 36, 38, 40, 42, 44, 46, 48, 50, 52, 54, 56, 58, 60, 62, 64, 66, 68, 70, 72, 74, 76, 78, 80, 82, 84, 86, 88, 90, 92, 94, 96, 98, 100]\n",
      "[43, 17, 8, 3, 41, 3, 47, 8, 6, 9, 2, 40, 2, 9, 13, 6, 48, 32, 29, 29, 49, 27, 12, 31, 44, 31, 21, 27, 36, 38, 39, 49, 1, 9, 21, 5, 27, 44, 47, 37, 27, 22, 47, 1, 34, 45, 1, 38, 21, 7, 4, 28, 32, 15, 37, 1, 37, 44, 2, 24, 26, 28, 23, 3, 39, 22, 42, 22, 4, 31, 27, 17, 19, 3, 23, 47, 39, 4, 45, 9, 29, 19, 23, 25, 50, 15, 44, 11, 31, 14, 9, 29, 12, 40, 19, 6, 44, 1, 19, 26]\n"
     ]
    }
   ],
   "source": [
    "from math import cos\n",
    "from random import randint\n",
    "\n",
    "X = [x+0.1 for x in range(10)]\n",
    "L6 = [(lambda x:cos(x))(x)  for x in X] # oh! attention à la syntaxe \n",
    "print(\"L6=\",L6)\n",
    " \n",
    "L7 = [3*k+2 for k in range(26)]\n",
    "print(L7)\n",
    "#  liste en compréhension entier pair de 0 à 100 \n",
    "L8 = [k for k in range(101) if k%2==0]\n",
    "print(L8)\n",
    "# Liste en compréhension échantillon de 100 nombres aléatoires entre 1 et 50 \n",
    "L9 = [randint(1,50) for i in range(100)]\n",
    "print(L9)"
   ]
  }
 ],
 "metadata": {
  "kernelspec": {
   "display_name": "Python 3",
   "language": "python",
   "name": "python3"
  },
  "language_info": {
   "codemirror_mode": {
    "name": "ipython",
    "version": 3
   },
   "file_extension": ".py",
   "mimetype": "text/x-python",
   "name": "python",
   "nbconvert_exporter": "python",
   "pygments_lexer": "ipython3",
   "version": "3.6.3"
  }
 },
 "nbformat": 4,
 "nbformat_minor": 2
}
